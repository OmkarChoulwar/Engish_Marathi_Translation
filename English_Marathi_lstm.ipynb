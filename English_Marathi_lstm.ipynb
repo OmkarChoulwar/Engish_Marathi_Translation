{
 "cells": [
  {
   "cell_type": "markdown",
   "metadata": {
    "id": "OsK7MpH5y-5a"
   },
   "source": [
    "The main aim of the project is to implement Machine Translation using LSTM. LSTM Model is being considered in order to maintain Semantics of the Sentences. "
   ]
  },
  {
   "cell_type": "code",
   "execution_count": null,
   "metadata": {
    "id": "nER5YRqEGKUU"
   },
   "outputs": [],
   "source": [
    "##Basic Libraries for the Project\n",
    "import numpy as np\n",
    "from google.colab import files\n",
    "from tensorflow.keras.layers import Dense,LSTM,Embedding\n",
    "from tensorflow.keras import Model\n"
   ]
  },
  {
   "cell_type": "code",
   "execution_count": null,
   "metadata": {
    "colab": {
     "base_uri": "https://localhost:8080/",
     "height": 72,
     "resources": {
      "http://localhost:8080/nbextensions/google.colab/files.js": {
       "data": "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",
       "headers": [
        [
         "content-type",
         "application/javascript"
        ]
       ],
       "ok": true,
       "status": 200,
       "status_text": ""
      }
     }
    },
    "id": "VcmccWm1Gltc",
    "outputId": "1e676e3f-842c-41aa-b874-05f7d37d9a45"
   },
   "outputs": [
    {
     "data": {
      "text/html": [
       "\n",
       "     <input type=\"file\" id=\"files-a449d98e-5dcb-499a-b3e8-c3ecf6097c7b\" name=\"files[]\" multiple disabled\n",
       "        style=\"border:none\" />\n",
       "     <output id=\"result-a449d98e-5dcb-499a-b3e8-c3ecf6097c7b\">\n",
       "      Upload widget is only available when the cell has been executed in the\n",
       "      current browser session. Please rerun this cell to enable.\n",
       "      </output>\n",
       "      <script src=\"/nbextensions/google.colab/files.js\"></script> "
      ],
      "text/plain": [
       "<IPython.core.display.HTML object>"
      ]
     },
     "metadata": {
      "tags": []
     },
     "output_type": "display_data"
    },
    {
     "name": "stdout",
     "output_type": "stream",
     "text": [
      "Saving final.csv to final (1).csv\n"
     ]
    }
   ],
   "source": [
    "#File with the Translation Data\n",
    "from google.colab import files\n",
    "uploaded1 = files.upload()\n",
    "import pandas as pd\n",
    "import io\n",
    "df = pd.read_csv(io.BytesIO(uploaded1['final.csv']))"
   ]
  },
  {
   "cell_type": "code",
   "execution_count": null,
   "metadata": {
    "colab": {
     "base_uri": "https://localhost:8080/",
     "height": 204
    },
    "id": "ZqW5ojyQJgKA",
    "outputId": "d04fc79e-7712-4e8d-d344-1ff35bf606e0"
   },
   "outputs": [
    {
     "data": {
      "text/html": [
       "<div>\n",
       "<style scoped>\n",
       "    .dataframe tbody tr th:only-of-type {\n",
       "        vertical-align: middle;\n",
       "    }\n",
       "\n",
       "    .dataframe tbody tr th {\n",
       "        vertical-align: top;\n",
       "    }\n",
       "\n",
       "    .dataframe thead th {\n",
       "        text-align: right;\n",
       "    }\n",
       "</style>\n",
       "<table border=\"1\" class=\"dataframe\">\n",
       "  <thead>\n",
       "    <tr style=\"text-align: right;\">\n",
       "      <th></th>\n",
       "      <th>English</th>\n",
       "      <th>Marathi</th>\n",
       "    </tr>\n",
       "  </thead>\n",
       "  <tbody>\n",
       "    <tr>\n",
       "      <th>29995</th>\n",
       "      <td>do your parents know about this?</td>\n",
       "      <td>\\tतुझ्या आईबाबांना याबद्दल माहीत आहे का?\\n</td>\n",
       "    </tr>\n",
       "    <tr>\n",
       "      <th>29996</th>\n",
       "      <td>do your parents know about this?</td>\n",
       "      <td>\\tतुमच्या आईवडिलांना याबद्दल माहीत आहे का?\\n</td>\n",
       "    </tr>\n",
       "    <tr>\n",
       "      <th>29997</th>\n",
       "      <td>does anybody want anything else?</td>\n",
       "      <td>\\tकोणाला अजून काही हवं आहे का?\\n</td>\n",
       "    </tr>\n",
       "    <tr>\n",
       "      <th>29998</th>\n",
       "      <td>does he study english every day?</td>\n",
       "      <td>\\tतो दररोज इंग्रजीचा अभ्यास करतो का?\\n</td>\n",
       "    </tr>\n",
       "    <tr>\n",
       "      <th>29999</th>\n",
       "      <td>don't even think of going there.</td>\n",
       "      <td>\\tतिथे जायचा विचारही करू नकोस.\\n</td>\n",
       "    </tr>\n",
       "  </tbody>\n",
       "</table>\n",
       "</div>"
      ],
      "text/plain": [
       "                                English                                       Marathi\n",
       "29995  do your parents know about this?    \\tतुझ्या आईबाबांना याबद्दल माहीत आहे का?\\n\n",
       "29996  do your parents know about this?  \\tतुमच्या आईवडिलांना याबद्दल माहीत आहे का?\\n\n",
       "29997  does anybody want anything else?              \\tकोणाला अजून काही हवं आहे का?\\n\n",
       "29998  does he study english every day?        \\tतो दररोज इंग्रजीचा अभ्यास करतो का?\\n\n",
       "29999  don't even think of going there.              \\tतिथे जायचा विचारही करू नकोस.\\n"
      ]
     },
     "execution_count": 128,
     "metadata": {
      "tags": []
     },
     "output_type": "execute_result"
    }
   ],
   "source": [
    "df.tail()"
   ]
  },
  {
   "cell_type": "code",
   "execution_count": null,
   "metadata": {
    "colab": {
     "base_uri": "https://localhost:8080/",
     "height": 102
    },
    "id": "i6T1OA-qIu0O",
    "outputId": "3eae8e94-a570-4b82-a9aa-270b98925181"
   },
   "outputs": [
    {
     "name": "stdout",
     "output_type": "stream",
     "text": [
      "Number of samples: 30000\n",
      "Number of unique input tokens: 53\n",
      "Number of unique output tokens: 93\n",
      "Max sequence length for inputs: 32\n",
      "Max sequence length for outputs: 59\n"
     ]
    }
   ],
   "source": [
    "batch_size = 100  # Batch size for training.\n",
    "epochs = 100  # Number of epochs to train for.\n",
    "latent_dim = 300  # Latent dimensionality of the encoding space.\n",
    "num_samples = 20000 \n",
    "\n",
    "input_texts = df.English\n",
    "target_texts = df.Marathi\n",
    "input_characters = set()\n",
    "target_characters = set()\n",
    "\n",
    "\n",
    "for line in range(num_samples):\n",
    "    \n",
    "    # We use \"tab\" as the \"start sequence\" character\n",
    "    # for the targets, and \"\\n\" as \"end sequence\" character.\n",
    "    \n",
    "    \n",
    "    for char in input_texts[line]:\n",
    "        if char not in input_characters:\n",
    "            input_characters.add(char)\n",
    "    for char in target_texts[line]:\n",
    "        if char not in target_characters:\n",
    "            target_characters.add(char)\n",
    "\n",
    "input_characters = sorted(list(input_characters))\n",
    "target_characters = sorted(list(target_characters))\n",
    "num_encoder_tokens = len(input_characters)\n",
    "num_decoder_tokens = len(target_characters)\n",
    "max_encoder_seq_length = max([len(txt) for txt in input_texts])\n",
    "max_decoder_seq_length = max([len(txt) for txt in target_texts])\n",
    "\n",
    "print('Number of samples:', len(input_texts))\n",
    "print('Number of unique input tokens:', num_encoder_tokens)\n",
    "print('Number of unique output tokens:', num_decoder_tokens)\n",
    "print('Max sequence length for inputs:', max_encoder_seq_length)\n",
    "print('Max sequence length for outputs:', max_decoder_seq_length)\n",
    "\n",
    "input_token_index = dict(\n",
    "    [(char, i) for i, char in enumerate(input_characters)])\n",
    "target_token_index = dict(\n",
    "    [(char, i) for i, char in enumerate(target_characters)])"
   ]
  },
  {
   "cell_type": "code",
   "execution_count": null,
   "metadata": {
    "id": "WPLba61TSByA"
   },
   "outputs": [],
   "source": [
    "input_characters = [' ','!','\"','$','%',\"'\",',','-','.','/','0','1','2','3','4','5','6','7','8','9',':','?','A','B','C','D','E','F','G','H','I','J','K','L','M',\n",
    "                    'N','O','P','Q','R','S','T','U','V','W','X','Y','a','b','c','d','e','f','g','h','i','j','k','l','m','n','o','p','q','r','s','t','u','v','w','x',\n",
    "                    'y','z','\\xa0','’','€']"
   ]
  },
  {
   "cell_type": "code",
   "execution_count": null,
   "metadata": {
    "id": "o0dwknUaSnn8"
   },
   "outputs": [],
   "source": [
    "num_encoder_tokens = len(input_characters)"
   ]
  },
  {
   "cell_type": "code",
   "execution_count": null,
   "metadata": {
    "id": "_O6NXMitSLWM"
   },
   "outputs": [],
   "source": [
    "target_characters = ['\\t','\\n',' ','!','\"','$','%',\"'\",'(',')',',','-','.','0','1','3',':','?','D','S','ँ','ं','ः','अ','आ','इ','ई','उ','ऊ','ऋ','ए','ऐ','ऑ','ओ',\n",
    "                      'औ','क','ख','ग','घ','च','छ','ज','झ','ञ','ट','ठ','ड','ढ','ण','त','थ','द','ध','न','प','फ','ब','भ','म','य','र','ऱ','ल','ळ', 'व','श','ष',\n",
    "                     'स','ह','़','ा','ि','ी','ु','ू','ृ','ॅ','े','ै','ॉ','ो','ौ','्','।','०','१','२','३','४','५','६','७','८','९','\\u200d','€']"
   ]
  },
  {
   "cell_type": "code",
   "execution_count": null,
   "metadata": {
    "id": "rsJRFYFtSuLc"
   },
   "outputs": [],
   "source": [
    "num_decoder_tokens = len(target_characters)"
   ]
  },
  {
   "cell_type": "markdown",
   "metadata": {
    "id": "PIHGXYkpynxp"
   },
   "source": [
    "The above step is done to ensure that no character is left and if any character occurs in the test set other than train it can be translated hence achieving more accuracy. "
   ]
  },
  {
   "cell_type": "code",
   "execution_count": null,
   "metadata": {
    "colab": {
     "base_uri": "https://localhost:8080/",
     "height": 1000
    },
    "id": "gd1LNNlcIvNS",
    "outputId": "148f74bf-0886-4165-b417-5eaab4dde70c"
   },
   "outputs": [
    {
     "name": "stdout",
     "output_type": "stream",
     "text": [
      "Epoch 1/100\n",
      "240/240 [==============================] - 5s 22ms/step - loss: 1.2360 - accuracy: 0.7094 - val_loss: 1.2733 - val_accuracy: 0.6731\n",
      "Epoch 2/100\n",
      "240/240 [==============================] - 5s 20ms/step - loss: 0.8010 - accuracy: 0.7842 - val_loss: 1.0694 - val_accuracy: 0.7073\n",
      "Epoch 3/100\n",
      "240/240 [==============================] - 5s 20ms/step - loss: 0.6876 - accuracy: 0.8073 - val_loss: 0.9635 - val_accuracy: 0.7333\n",
      "Epoch 4/100\n",
      "240/240 [==============================] - 5s 20ms/step - loss: 0.6133 - accuracy: 0.8279 - val_loss: 0.8964 - val_accuracy: 0.7548\n",
      "Epoch 5/100\n",
      "240/240 [==============================] - 5s 20ms/step - loss: 0.5583 - accuracy: 0.8434 - val_loss: 0.8380 - val_accuracy: 0.7717\n",
      "Epoch 6/100\n",
      "240/240 [==============================] - 5s 20ms/step - loss: 0.5182 - accuracy: 0.8542 - val_loss: 0.8004 - val_accuracy: 0.7810\n",
      "Epoch 7/100\n",
      "240/240 [==============================] - 5s 20ms/step - loss: 0.4858 - accuracy: 0.8628 - val_loss: 0.7644 - val_accuracy: 0.7908\n",
      "Epoch 8/100\n",
      "240/240 [==============================] - 5s 20ms/step - loss: 0.4585 - accuracy: 0.8703 - val_loss: 0.7401 - val_accuracy: 0.7960\n",
      "Epoch 9/100\n",
      "240/240 [==============================] - 5s 20ms/step - loss: 0.4352 - accuracy: 0.8764 - val_loss: 0.7189 - val_accuracy: 0.8028\n",
      "Epoch 10/100\n",
      "240/240 [==============================] - 5s 20ms/step - loss: 0.4154 - accuracy: 0.8814 - val_loss: 0.7096 - val_accuracy: 0.8054\n",
      "Epoch 11/100\n",
      "240/240 [==============================] - 5s 20ms/step - loss: 0.3980 - accuracy: 0.8859 - val_loss: 0.6857 - val_accuracy: 0.8114\n",
      "Epoch 12/100\n",
      "240/240 [==============================] - 5s 20ms/step - loss: 0.3828 - accuracy: 0.8901 - val_loss: 0.6776 - val_accuracy: 0.8130\n",
      "Epoch 13/100\n",
      "240/240 [==============================] - 5s 20ms/step - loss: 0.3693 - accuracy: 0.8935 - val_loss: 0.6768 - val_accuracy: 0.8149\n",
      "Epoch 14/100\n",
      "240/240 [==============================] - 5s 20ms/step - loss: 0.3566 - accuracy: 0.8971 - val_loss: 0.6667 - val_accuracy: 0.8163\n",
      "Epoch 15/100\n",
      "240/240 [==============================] - 5s 20ms/step - loss: 0.3454 - accuracy: 0.8999 - val_loss: 0.6713 - val_accuracy: 0.8158\n",
      "Epoch 16/100\n",
      "240/240 [==============================] - 5s 20ms/step - loss: 0.3346 - accuracy: 0.9029 - val_loss: 0.6618 - val_accuracy: 0.8186\n",
      "Epoch 17/100\n",
      "240/240 [==============================] - 5s 20ms/step - loss: 0.3249 - accuracy: 0.9056 - val_loss: 0.6645 - val_accuracy: 0.8185\n",
      "Epoch 18/100\n",
      "240/240 [==============================] - 5s 20ms/step - loss: 0.3158 - accuracy: 0.9080 - val_loss: 0.6667 - val_accuracy: 0.8197\n",
      "Epoch 19/100\n",
      "240/240 [==============================] - 5s 20ms/step - loss: 0.3068 - accuracy: 0.9104 - val_loss: 0.6803 - val_accuracy: 0.8167\n",
      "Epoch 20/100\n",
      "240/240 [==============================] - 5s 20ms/step - loss: 0.2984 - accuracy: 0.9128 - val_loss: 0.6766 - val_accuracy: 0.8193\n",
      "Epoch 21/100\n",
      "240/240 [==============================] - 5s 20ms/step - loss: 0.2908 - accuracy: 0.9147 - val_loss: 0.6763 - val_accuracy: 0.8198\n",
      "Epoch 22/100\n",
      "240/240 [==============================] - 5s 20ms/step - loss: 0.2833 - accuracy: 0.9170 - val_loss: 0.6814 - val_accuracy: 0.8198\n",
      "Epoch 23/100\n",
      "240/240 [==============================] - 5s 20ms/step - loss: 0.2762 - accuracy: 0.9188 - val_loss: 0.6854 - val_accuracy: 0.8198\n",
      "Epoch 24/100\n",
      "240/240 [==============================] - 5s 20ms/step - loss: 0.2693 - accuracy: 0.9207 - val_loss: 0.6938 - val_accuracy: 0.8184\n",
      "Epoch 25/100\n",
      "240/240 [==============================] - 5s 20ms/step - loss: 0.2628 - accuracy: 0.9226 - val_loss: 0.7027 - val_accuracy: 0.8180\n",
      "Epoch 26/100\n",
      "240/240 [==============================] - 5s 20ms/step - loss: 0.2567 - accuracy: 0.9246 - val_loss: 0.7145 - val_accuracy: 0.8164\n",
      "Epoch 27/100\n",
      "240/240 [==============================] - 5s 20ms/step - loss: 0.2509 - accuracy: 0.9260 - val_loss: 0.7090 - val_accuracy: 0.8188\n",
      "Epoch 28/100\n",
      "240/240 [==============================] - 5s 20ms/step - loss: 0.2453 - accuracy: 0.9276 - val_loss: 0.7236 - val_accuracy: 0.8174\n",
      "Epoch 29/100\n",
      "240/240 [==============================] - 5s 20ms/step - loss: 0.2399 - accuracy: 0.9289 - val_loss: 0.7257 - val_accuracy: 0.8180\n",
      "Epoch 30/100\n",
      "240/240 [==============================] - 5s 20ms/step - loss: 0.2345 - accuracy: 0.9308 - val_loss: 0.7426 - val_accuracy: 0.8154\n",
      "Epoch 31/100\n",
      "240/240 [==============================] - 5s 20ms/step - loss: 0.2295 - accuracy: 0.9321 - val_loss: 0.7478 - val_accuracy: 0.8162\n",
      "Epoch 32/100\n",
      "240/240 [==============================] - 5s 20ms/step - loss: 0.2249 - accuracy: 0.9333 - val_loss: 0.7492 - val_accuracy: 0.8170\n",
      "Epoch 33/100\n",
      "240/240 [==============================] - 5s 20ms/step - loss: 0.2203 - accuracy: 0.9347 - val_loss: 0.7690 - val_accuracy: 0.8150\n",
      "Epoch 34/100\n",
      "240/240 [==============================] - 5s 20ms/step - loss: 0.2157 - accuracy: 0.9358 - val_loss: 0.7614 - val_accuracy: 0.8164\n",
      "Epoch 35/100\n",
      "240/240 [==============================] - 5s 20ms/step - loss: 0.2113 - accuracy: 0.9373 - val_loss: 0.7744 - val_accuracy: 0.8155\n",
      "Epoch 36/100\n",
      "240/240 [==============================] - 5s 20ms/step - loss: 0.2071 - accuracy: 0.9384 - val_loss: 0.7790 - val_accuracy: 0.8157\n",
      "Epoch 37/100\n",
      "240/240 [==============================] - 5s 20ms/step - loss: 0.2030 - accuracy: 0.9394 - val_loss: 0.7934 - val_accuracy: 0.8150\n",
      "Epoch 38/100\n",
      "240/240 [==============================] - 5s 20ms/step - loss: 0.1993 - accuracy: 0.9405 - val_loss: 0.8050 - val_accuracy: 0.8136\n",
      "Epoch 39/100\n",
      "240/240 [==============================] - 5s 20ms/step - loss: 0.1953 - accuracy: 0.9417 - val_loss: 0.8045 - val_accuracy: 0.8146\n",
      "Epoch 40/100\n",
      "240/240 [==============================] - 5s 20ms/step - loss: 0.1918 - accuracy: 0.9427 - val_loss: 0.8145 - val_accuracy: 0.8137\n",
      "Epoch 41/100\n",
      "240/240 [==============================] - 5s 20ms/step - loss: 0.1883 - accuracy: 0.9436 - val_loss: 0.8248 - val_accuracy: 0.8139\n",
      "Epoch 42/100\n",
      "240/240 [==============================] - 5s 20ms/step - loss: 0.1847 - accuracy: 0.9446 - val_loss: 0.8296 - val_accuracy: 0.8136\n",
      "Epoch 43/100\n",
      "240/240 [==============================] - 5s 20ms/step - loss: 0.1813 - accuracy: 0.9454 - val_loss: 0.8304 - val_accuracy: 0.8140\n",
      "Epoch 44/100\n",
      "240/240 [==============================] - 5s 20ms/step - loss: 0.1781 - accuracy: 0.9464 - val_loss: 0.8446 - val_accuracy: 0.8126\n",
      "Epoch 45/100\n",
      "240/240 [==============================] - 5s 20ms/step - loss: 0.1750 - accuracy: 0.9473 - val_loss: 0.8500 - val_accuracy: 0.8119\n",
      "Epoch 46/100\n",
      "240/240 [==============================] - 5s 20ms/step - loss: 0.1720 - accuracy: 0.9482 - val_loss: 0.8618 - val_accuracy: 0.8123\n",
      "Epoch 47/100\n",
      "240/240 [==============================] - 5s 20ms/step - loss: 0.1687 - accuracy: 0.9490 - val_loss: 0.8645 - val_accuracy: 0.8119\n",
      "Epoch 48/100\n",
      "240/240 [==============================] - 5s 20ms/step - loss: 0.1658 - accuracy: 0.9500 - val_loss: 0.8837 - val_accuracy: 0.8116\n",
      "Epoch 49/100\n",
      "240/240 [==============================] - 5s 21ms/step - loss: 0.1628 - accuracy: 0.9507 - val_loss: 0.8831 - val_accuracy: 0.8117\n",
      "Epoch 50/100\n",
      "240/240 [==============================] - 5s 20ms/step - loss: 0.1601 - accuracy: 0.9516 - val_loss: 0.8933 - val_accuracy: 0.8108\n",
      "Epoch 51/100\n",
      "240/240 [==============================] - 5s 20ms/step - loss: 0.1572 - accuracy: 0.9523 - val_loss: 0.8936 - val_accuracy: 0.8112\n",
      "Epoch 52/100\n",
      "240/240 [==============================] - 5s 20ms/step - loss: 0.1544 - accuracy: 0.9532 - val_loss: 0.9061 - val_accuracy: 0.8099\n",
      "Epoch 53/100\n",
      "240/240 [==============================] - 5s 21ms/step - loss: 0.1518 - accuracy: 0.9540 - val_loss: 0.9142 - val_accuracy: 0.8106\n",
      "Epoch 54/100\n",
      "240/240 [==============================] - 5s 20ms/step - loss: 0.1490 - accuracy: 0.9547 - val_loss: 0.9207 - val_accuracy: 0.8100\n",
      "Epoch 55/100\n",
      "240/240 [==============================] - 5s 20ms/step - loss: 0.1465 - accuracy: 0.9554 - val_loss: 0.9245 - val_accuracy: 0.8107\n",
      "Epoch 56/100\n",
      "240/240 [==============================] - 5s 20ms/step - loss: 0.1440 - accuracy: 0.9562 - val_loss: 0.9425 - val_accuracy: 0.8096\n",
      "Epoch 57/100\n",
      "240/240 [==============================] - 5s 21ms/step - loss: 0.1413 - accuracy: 0.9570 - val_loss: 0.9531 - val_accuracy: 0.8097\n",
      "Epoch 58/100\n",
      "240/240 [==============================] - 5s 20ms/step - loss: 0.1390 - accuracy: 0.9576 - val_loss: 0.9496 - val_accuracy: 0.8100\n",
      "Epoch 59/100\n",
      "240/240 [==============================] - 5s 20ms/step - loss: 0.1365 - accuracy: 0.9584 - val_loss: 0.9629 - val_accuracy: 0.8086\n",
      "Epoch 60/100\n",
      "240/240 [==============================] - 5s 20ms/step - loss: 0.1344 - accuracy: 0.9589 - val_loss: 0.9596 - val_accuracy: 0.8084\n",
      "Epoch 61/100\n",
      "240/240 [==============================] - 5s 20ms/step - loss: 0.1319 - accuracy: 0.9596 - val_loss: 0.9701 - val_accuracy: 0.8093\n",
      "Epoch 62/100\n",
      "240/240 [==============================] - 5s 20ms/step - loss: 0.1298 - accuracy: 0.9603 - val_loss: 0.9791 - val_accuracy: 0.8082\n",
      "Epoch 63/100\n",
      "240/240 [==============================] - 5s 20ms/step - loss: 0.1275 - accuracy: 0.9609 - val_loss: 0.9888 - val_accuracy: 0.8081\n",
      "Epoch 64/100\n",
      "240/240 [==============================] - 5s 20ms/step - loss: 0.1253 - accuracy: 0.9615 - val_loss: 0.9967 - val_accuracy: 0.8083\n",
      "Epoch 65/100\n",
      "240/240 [==============================] - 5s 20ms/step - loss: 0.1231 - accuracy: 0.9622 - val_loss: 1.0048 - val_accuracy: 0.8077\n",
      "Epoch 66/100\n",
      "240/240 [==============================] - 5s 20ms/step - loss: 0.1212 - accuracy: 0.9628 - val_loss: 1.0093 - val_accuracy: 0.8076\n",
      "Epoch 67/100\n",
      "240/240 [==============================] - 5s 20ms/step - loss: 0.1189 - accuracy: 0.9635 - val_loss: 1.0139 - val_accuracy: 0.8074\n",
      "Epoch 68/100\n",
      "240/240 [==============================] - 5s 20ms/step - loss: 0.1169 - accuracy: 0.9640 - val_loss: 1.0228 - val_accuracy: 0.8076\n",
      "Epoch 69/100\n",
      "240/240 [==============================] - 5s 20ms/step - loss: 0.1150 - accuracy: 0.9646 - val_loss: 1.0297 - val_accuracy: 0.8070\n",
      "Epoch 70/100\n",
      "240/240 [==============================] - 5s 20ms/step - loss: 0.1129 - accuracy: 0.9652 - val_loss: 1.0312 - val_accuracy: 0.8074\n",
      "Epoch 71/100\n",
      "240/240 [==============================] - 5s 20ms/step - loss: 0.1113 - accuracy: 0.9655 - val_loss: 1.0481 - val_accuracy: 0.8062\n",
      "Epoch 72/100\n",
      "240/240 [==============================] - 5s 20ms/step - loss: 0.1091 - accuracy: 0.9662 - val_loss: 1.0538 - val_accuracy: 0.8070\n",
      "Epoch 73/100\n",
      "240/240 [==============================] - 5s 20ms/step - loss: 0.1074 - accuracy: 0.9667 - val_loss: 1.0547 - val_accuracy: 0.8065\n",
      "Epoch 74/100\n",
      "240/240 [==============================] - 5s 20ms/step - loss: 0.1056 - accuracy: 0.9672 - val_loss: 1.0716 - val_accuracy: 0.8062\n",
      "Epoch 75/100\n",
      "240/240 [==============================] - 5s 20ms/step - loss: 0.1038 - accuracy: 0.9677 - val_loss: 1.0737 - val_accuracy: 0.8063\n",
      "Epoch 76/100\n",
      "240/240 [==============================] - 5s 20ms/step - loss: 0.1020 - accuracy: 0.9680 - val_loss: 1.0823 - val_accuracy: 0.8066\n",
      "Epoch 77/100\n",
      "240/240 [==============================] - 5s 20ms/step - loss: 0.1003 - accuracy: 0.9687 - val_loss: 1.0966 - val_accuracy: 0.8063\n",
      "Epoch 78/100\n",
      "240/240 [==============================] - 5s 20ms/step - loss: 0.0985 - accuracy: 0.9693 - val_loss: 1.0863 - val_accuracy: 0.8066\n",
      "Epoch 79/100\n",
      "240/240 [==============================] - 5s 20ms/step - loss: 0.0970 - accuracy: 0.9698 - val_loss: 1.0990 - val_accuracy: 0.8061\n",
      "Epoch 80/100\n",
      "240/240 [==============================] - 5s 20ms/step - loss: 0.0956 - accuracy: 0.9701 - val_loss: 1.1050 - val_accuracy: 0.8054\n",
      "Epoch 81/100\n",
      "240/240 [==============================] - 5s 20ms/step - loss: 0.0938 - accuracy: 0.9705 - val_loss: 1.1184 - val_accuracy: 0.8056\n",
      "Epoch 82/100\n",
      "240/240 [==============================] - 5s 20ms/step - loss: 0.0921 - accuracy: 0.9710 - val_loss: 1.1115 - val_accuracy: 0.8067\n",
      "Epoch 83/100\n",
      "240/240 [==============================] - 5s 20ms/step - loss: 0.0907 - accuracy: 0.9716 - val_loss: 1.1253 - val_accuracy: 0.8055\n",
      "Epoch 84/100\n",
      "240/240 [==============================] - 5s 20ms/step - loss: 0.0893 - accuracy: 0.9719 - val_loss: 1.1300 - val_accuracy: 0.8054\n",
      "Epoch 85/100\n",
      "240/240 [==============================] - 5s 20ms/step - loss: 0.0879 - accuracy: 0.9722 - val_loss: 1.1392 - val_accuracy: 0.8050\n",
      "Epoch 86/100\n",
      "240/240 [==============================] - 5s 20ms/step - loss: 0.0865 - accuracy: 0.9728 - val_loss: 1.1396 - val_accuracy: 0.8055\n",
      "Epoch 87/100\n",
      "240/240 [==============================] - 5s 20ms/step - loss: 0.0849 - accuracy: 0.9733 - val_loss: 1.1571 - val_accuracy: 0.8047\n",
      "Epoch 88/100\n",
      "240/240 [==============================] - 5s 20ms/step - loss: 0.0837 - accuracy: 0.9735 - val_loss: 1.1530 - val_accuracy: 0.8051\n",
      "Epoch 89/100\n",
      "240/240 [==============================] - 5s 20ms/step - loss: 0.0826 - accuracy: 0.9739 - val_loss: 1.1645 - val_accuracy: 0.8054\n",
      "Epoch 90/100\n",
      "240/240 [==============================] - 5s 20ms/step - loss: 0.0813 - accuracy: 0.9741 - val_loss: 1.1698 - val_accuracy: 0.8051\n",
      "Epoch 91/100\n",
      "240/240 [==============================] - 5s 20ms/step - loss: 0.0798 - accuracy: 0.9748 - val_loss: 1.1772 - val_accuracy: 0.8048\n",
      "Epoch 92/100\n",
      "240/240 [==============================] - 5s 20ms/step - loss: 0.0789 - accuracy: 0.9748 - val_loss: 1.1835 - val_accuracy: 0.8041\n",
      "Epoch 93/100\n",
      "240/240 [==============================] - 5s 20ms/step - loss: 0.0774 - accuracy: 0.9754 - val_loss: 1.1879 - val_accuracy: 0.8054\n",
      "Epoch 94/100\n",
      "240/240 [==============================] - 5s 20ms/step - loss: 0.0764 - accuracy: 0.9757 - val_loss: 1.1973 - val_accuracy: 0.8046\n",
      "Epoch 95/100\n",
      "240/240 [==============================] - 5s 20ms/step - loss: 0.0753 - accuracy: 0.9760 - val_loss: 1.1988 - val_accuracy: 0.8044\n",
      "Epoch 96/100\n",
      "240/240 [==============================] - 5s 20ms/step - loss: 0.0742 - accuracy: 0.9763 - val_loss: 1.2056 - val_accuracy: 0.8045\n",
      "Epoch 97/100\n",
      "240/240 [==============================] - 5s 20ms/step - loss: 0.0730 - accuracy: 0.9767 - val_loss: 1.2086 - val_accuracy: 0.8042\n",
      "Epoch 98/100\n",
      "240/240 [==============================] - 5s 20ms/step - loss: 0.0721 - accuracy: 0.9768 - val_loss: 1.2242 - val_accuracy: 0.8046\n",
      "Epoch 99/100\n",
      "240/240 [==============================] - 5s 20ms/step - loss: 0.0710 - accuracy: 0.9773 - val_loss: 1.2200 - val_accuracy: 0.8044\n",
      "Epoch 100/100\n",
      "240/240 [==============================] - 5s 20ms/step - loss: 0.0697 - accuracy: 0.9776 - val_loss: 1.2280 - val_accuracy: 0.8042\n"
     ]
    },
    {
     "data": {
      "text/plain": [
       "<tensorflow.python.keras.callbacks.History at 0x7facac369710>"
      ]
     },
     "execution_count": 180,
     "metadata": {
      "tags": []
     },
     "output_type": "execute_result"
    }
   ],
   "source": [
    "from tensorflow.keras.layers import Input\n",
    "input_token_index = dict(\n",
    "    [(char, i) for i, char in enumerate(input_characters)])\n",
    "target_token_index = dict(\n",
    "    [(char, i) for i, char in enumerate(target_characters)])\n",
    "\n",
    "encoder_input_data = np.zeros(\n",
    "    (len(input_texts), max_encoder_seq_length, num_encoder_tokens),\n",
    "    dtype='float32')\n",
    "decoder_input_data = np.zeros(\n",
    "    (len(input_texts), max_decoder_seq_length, num_decoder_tokens),\n",
    "    dtype='float32')\n",
    "decoder_target_data = np.zeros(\n",
    "    (len(input_texts), max_decoder_seq_length, num_decoder_tokens),\n",
    "    dtype='float32')\n",
    "c=[]\n",
    "count=0\n",
    "for i, (input_text, target_text) in enumerate(zip(input_texts, target_texts)):\n",
    "    for t, char in enumerate(input_text):\n",
    "        count+=1\n",
    "        encoder_input_data[i, t, input_token_index[char]] = 1.\n",
    "    encoder_input_data[i, t + 1:, input_token_index[' ']] = 1.\n",
    "    c.append(count)\n",
    "    count=0\n",
    "    for t, char in enumerate(target_text):\n",
    "        # decoder_target_data is ahead of decoder_input_data by one timestep\n",
    "        decoder_input_data[i, t, target_token_index[char]] = 1.\n",
    "        if t > 0:\n",
    "            # decoder_target_data will be ahead by one timestep\n",
    "            # and will not include the start character.\n",
    "            decoder_target_data[i, t - 1, target_token_index[char]] = 1.\n",
    "    decoder_input_data[i, t + 1:, target_token_index[' ']] = 1.\n",
    "    decoder_target_data[i, t:, target_token_index[' ']] = 1.\n",
    "# Define an input sequence and process it.\n",
    "encoder_inputs = Input(shape=(None, num_encoder_tokens))\n",
    "encoder = LSTM(latent_dim, return_state=True)\n",
    "encoder_outputs, state_h, state_c = encoder(encoder_inputs)\n",
    "# We discard `encoder_outputs` and only keep the states.\n",
    "encoder_states = [state_h, state_c]\n",
    "\n",
    "# Set up the decoder, using `encoder_states` as initial state.\n",
    "decoder_inputs = Input(shape=(None, num_decoder_tokens))\n",
    "# We set up our decoder to return full output sequences,\n",
    "# and to return internal states as well. We don't use the\n",
    "# return states in the training model, but we will use them in inference.\n",
    "decoder_lstm = LSTM(latent_dim, return_sequences=True, return_state=True)\n",
    "decoder_outputs, _, _ = decoder_lstm(decoder_inputs,\n",
    "                                     initial_state=encoder_states)\n",
    "decoder_dense = Dense(num_decoder_tokens, activation='softmax')\n",
    "decoder_outputs = decoder_dense(decoder_outputs)\n",
    "\n",
    "# Define the model that will turn\n",
    "# `encoder_input_data` & `decoder_input_data` into `decoder_target_data`\n",
    "model = Model([encoder_inputs, decoder_inputs], decoder_outputs)\n",
    "\n",
    "# Run training\n",
    "model.compile(optimizer='rmsprop', loss='categorical_crossentropy',\n",
    "              metrics=['accuracy'])\n",
    "encoder_input_data[1:2], input_texts[1] ,c[1] , input_token_index['!']\n",
    "\n",
    "model.fit([encoder_input_data, decoder_input_data], decoder_target_data,\n",
    "          batch_size=batch_size,\n",
    "          epochs=epochs,\n",
    "          validation_split=0.2)\n"
   ]
  },
  {
   "cell_type": "code",
   "execution_count": null,
   "metadata": {
    "id": "3-ECBP3tKRGP"
   },
   "outputs": [],
   "source": [
    "encoder_model = Model(encoder_inputs, encoder_states)\n",
    "\n",
    "decoder_state_input_h = Input(shape=(latent_dim,))\n",
    "decoder_state_input_c = Input(shape=(latent_dim,))\n",
    "decoder_states_inputs = [decoder_state_input_h, decoder_state_input_c]\n",
    "decoder_outputs, state_h, state_c = decoder_lstm(\n",
    "    decoder_inputs, initial_state=decoder_states_inputs)\n",
    "decoder_states = [state_h, state_c]\n",
    "decoder_outputs = decoder_dense(decoder_outputs)\n",
    "decoder_model = Model(\n",
    "    [decoder_inputs] + decoder_states_inputs,\n",
    "    [decoder_outputs] + decoder_states)\n",
    "\n",
    "# Reverse-lookup token index to decode sequences back to\n",
    "# something readable.\n",
    "reverse_input_char_index = dict(\n",
    "    (i, char) for char, i in input_token_index.items())\n",
    "reverse_target_char_index = dict(\n",
    "    (i, char) for char, i in target_token_index.items())\n"
   ]
  },
  {
   "cell_type": "code",
   "execution_count": null,
   "metadata": {
    "id": "jClvltJZVE7H"
   },
   "outputs": [],
   "source": [
    "def decode_sequence(input_seq):\n",
    "    # Encode the input as state vectors.\n",
    "    states_value = encoder_model.predict(input_seq)\n",
    "\n",
    "    # Generate empty target sequence of length 1.\n",
    "    target_seq = np.zeros((1, 1, num_decoder_tokens))\n",
    "    # Populate the first character of target sequence with the start character.\n",
    "    target_seq[0, 0, target_token_index['\\t']] = 1.\n",
    "\n",
    "    # Sampling loop for a batch of sequences\n",
    "    # (to simplify, here we assume a batch of size 1).\n",
    "    stop_condition = False\n",
    "    decoded_sentence = ''\n",
    "    while not stop_condition:\n",
    "        output_tokens, h, c = decoder_model.predict(\n",
    "            [target_seq] + states_value)\n",
    "\n",
    "        # Sample a token\n",
    "        sampled_token_index = np.argmax(output_tokens[0, -1, :])\n",
    "        sampled_char = reverse_target_char_index[sampled_token_index]\n",
    "        decoded_sentence += sampled_char\n",
    "\n",
    "        # Exit condition: either hit max length\n",
    "        # or find stop character.\n",
    "        if (sampled_char == '\\n' or\n",
    "           len(decoded_sentence) > max_decoder_seq_length):\n",
    "            stop_condition = True\n",
    "\n",
    "        # Update the target sequence (of length 1).\n",
    "        target_seq = np.zeros((1, 1, num_decoder_tokens))\n",
    "        target_seq[0, 0, sampled_token_index] = 1.\n",
    "\n",
    "        # Update states\n",
    "        states_value = [h, c]\n",
    "\n",
    "    return decoded_sentence"
   ]
  },
  {
   "cell_type": "code",
   "execution_count": null,
   "metadata": {
    "colab": {
     "base_uri": "https://localhost:8080/",
     "height": 1000
    },
    "id": "pFsc8ptyVNll",
    "outputId": "021d7d30-6637-476b-c1c9-092bcca46786"
   },
   "outputs": [
    {
     "name": "stdout",
     "output_type": "stream",
     "text": [
      "-\n",
      "Input sentence: tom lies.\n",
      "Decoded sentence: टॉम खोटं बोलतो.\n",
      "\n",
      "(1, 32, 76)\n",
      "-\n",
      "Input sentence: tom lost.\n",
      "Decoded sentence: टॉम हरला.\n",
      "\n",
      "(1, 32, 76)\n",
      "-\n",
      "Input sentence: tom wept.\n",
      "Decoded sentence: टॉम रडला.\n",
      "\n",
      "(1, 32, 76)\n",
      "-\n",
      "Input sentence: tom's up.\n",
      "Decoded sentence: टॉम उठला आहे.\n",
      "\n",
      "(1, 32, 76)\n",
      "-\n",
      "Input sentence: use this.\n",
      "Decoded sentence: हे वापर.\n",
      "\n",
      "(1, 32, 76)\n",
      "-\n",
      "Input sentence: use this.\n",
      "Decoded sentence: हे वापर.\n",
      "\n",
      "(1, 32, 76)\n",
      "-\n",
      "Input sentence: warn tom.\n",
      "Decoded sentence: टॉमला सांग.\n",
      "\n",
      "(1, 32, 76)\n",
      "-\n",
      "Input sentence: warn tom.\n",
      "Decoded sentence: टॉमला सांग.\n",
      "\n",
      "(1, 32, 76)\n",
      "-\n",
      "Input sentence: watch me.\n",
      "Decoded sentence: मला बघा.\n",
      "\n",
      "(1, 32, 76)\n",
      "-\n",
      "Input sentence: watch me.\n",
      "Decoded sentence: मला बघा.\n",
      "\n",
      "(1, 32, 76)\n",
      "-\n",
      "Input sentence: watch us.\n",
      "Decoded sentence: आम्हाला बघ.\n",
      "\n",
      "(1, 32, 76)\n",
      "-\n",
      "Input sentence: watch us.\n",
      "Decoded sentence: आम्हाला बघ.\n",
      "\n",
      "(1, 32, 76)\n",
      "-\n",
      "Input sentence: we'll go.\n",
      "Decoded sentence: आम्ही जाऊ.\n",
      "\n",
      "(1, 32, 76)\n",
      "-\n",
      "Input sentence: we'll go.\n",
      "Decoded sentence: आम्ही जाऊ.\n",
      "\n",
      "(1, 32, 76)\n",
      "-\n",
      "Input sentence: what for?\n",
      "Decoded sentence: कशासाठी?\n",
      "\n",
      "(1, 32, 76)\n",
      "-\n",
      "Input sentence: what for?\n",
      "Decoded sentence: कशासाठी?\n",
      "\n",
      "(1, 32, 76)\n",
      "-\n",
      "Input sentence: who am i?\n",
      "Decoded sentence: कोण आलं?\n",
      "\n",
      "(1, 32, 76)\n",
      "-\n",
      "Input sentence: who came?\n",
      "Decoded sentence: कोण पळालं?\n",
      "\n",
      "(1, 32, 76)\n",
      "-\n",
      "Input sentence: who died?\n",
      "Decoded sentence: कोण मेलं?\n",
      "\n",
      "(1, 32, 76)\n",
      "-\n",
      "Input sentence: who fell?\n",
      "Decoded sentence: कोण पडलं?\n",
      "\n",
      "(1, 32, 76)\n"
     ]
    }
   ],
   "source": [
    "for seq_index in range(200,220):\n",
    "    # Take one sequence (part of the training set)\n",
    "    # for trying out decoding.\n",
    "    input_seq = encoder_input_data[seq_index: seq_index + 1]\n",
    "    decoded_sentence = decode_sequence(input_seq)\n",
    "    print('-')\n",
    "    print('Input sentence:', input_texts[seq_index])\n",
    "    print('Decoded sentence:', decoded_sentence)\n",
    "    print(input_seq.shape)"
   ]
  },
  {
   "cell_type": "code",
   "execution_count": null,
   "metadata": {
    "colab": {
     "base_uri": "https://localhost:8080/",
     "height": 119
    },
    "id": "4Qe-hoOrXp1X",
    "outputId": "86d2569b-3c04-40e7-fe8a-e716c9a39914"
   },
   "outputs": [
    {
     "name": "stdout",
     "output_type": "stream",
     "text": [
      "Enter:watch him\n",
      "-\n",
      "Input sentence: watch him\n",
      "Decoded sentence: थांबव.\n",
      "\n",
      "(1, 32, 76)\n"
     ]
    }
   ],
   "source": [
    "def Input_encoder(m):     \n",
    "      encoder_input_data1 = np.zeros(\n",
    "          (1, 32, 76),\n",
    "          dtype='float32')\n",
    "      \n",
    "      \n",
    "      for t, char in enumerate(m):\n",
    "          #print(char)\n",
    "          encoder_input_data1[0, t, input_token_index[char]] = 1.\n",
    "      encoder_input_data1[0, t + 1:, input_token_index[' ']] = 1.\n",
    "\n",
    "      return encoder_input_data1\n",
    "\n",
    "m1 = input('Enter:')\n",
    "x2 = Input_encoder(m1)\n",
    "input_seq = x2\n",
    "decoded_sentence = decode_sequence(input_seq)\n",
    "print('-')\n",
    "print('Input sentence:', m1)\n",
    "print('Decoded sentence:', decoded_sentence)\n",
    "print(input_seq.shape)"
   ]
  }
 ],
 "metadata": {
  "accelerator": "GPU",
  "colab": {
   "name": "English-Marathi_lstm.ipynb",
   "provenance": []
  },
  "kernelspec": {
   "display_name": "Python 3",
   "language": "python",
   "name": "python3"
  },
  "language_info": {
   "codemirror_mode": {
    "name": "ipython",
    "version": 3
   },
   "file_extension": ".py",
   "mimetype": "text/x-python",
   "name": "python",
   "nbconvert_exporter": "python",
   "pygments_lexer": "ipython3",
   "version": "3.8.3"
  }
 },
 "nbformat": 4,
 "nbformat_minor": 1
}
